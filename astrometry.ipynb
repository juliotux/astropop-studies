{
 "cells": [
  {
   "cell_type": "markdown",
   "metadata": {},
   "source": [
    "# Astrometry\n",
    "\n",
    "Compare astrometry.net results with [twirl](https://github.com/lgrcia/twirl), that uses the same algorithms, but is pure-python."
   ]
  }
 ],
 "metadata": {
  "language_info": {
   "name": "python"
  },
  "orig_nbformat": 4
 },
 "nbformat": 4,
 "nbformat_minor": 2
}
