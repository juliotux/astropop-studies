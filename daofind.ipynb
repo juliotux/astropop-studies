{
 "cells": [
  {
   "cell_type": "markdown",
   "metadata": {},
   "source": [
    "# DAOFind, Peak Finding and Statistics Computation\n",
    "\n",
    "Study ways to improve DAOFind, common values for statistics and peak finding. Comparing ASTROPOP implementation with Stetson (python port by D. Jones in [PythonPhot](https://github.com/djones1040/PythonPhot/)) and Astropy affiliated [Photutils](https://github.com/astropy/photutils)."
   ]
  },
  {
   "cell_type": "code",
   "execution_count": null,
   "metadata": {},
   "outputs": [],
   "source": [
    "import sys\n",
    "sys.path.append('.')\n",
    "import numpy as np\n",
    "from matplotlib import pyplot as plt\n",
    "%matplotlib notebook\n",
    "from scipy.ndimage.filters import convolve\n",
    "\n",
    "from library.gen_image import gen_image"
   ]
  },
  {
   "cell_type": "markdown",
   "metadata": {},
   "source": [
    "## Peak Finding\n",
    "\n",
    "We will compare 3 algorithms here:\n",
    "- Stetson DAOFind, that seeks local maximuns inside a box\n",
    "- Photutils `peak_find`, used in Photutils source detection\n",
    "- Scikit-image `peak_local_max`, that uses local max filter\n",
    "\n",
    "All these algorithms will be applyed in the gausian-kernel convolved image.\n",
    "\n",
    "### Using simulated stars\n",
    "\n",
    "For the first peak fingind test, lets use a image with some strange sources. 3 round, 3 very alonged and 3 sharp cosmicray-like."
   ]
  },
  {
   "cell_type": "code",
   "execution_count": null,
   "metadata": {},
   "outputs": [],
   "source": [
    "# Image: # 3x3 \"stars\"\n",
    "# first row just scraps, second row elipses, third row different fwhm\n",
    "size = (512, 512)\n",
    "posx = [128, 256, 384]*3\n",
    "posy = np.ravel([np.arange(90, 120, step=10),\n",
    "                 np.arange(240, 270, step=10),\n",
    "                 np.arange(360, 390, step=10)])\n",
    "flux = (0, 0, 0, 80000, 80000, 80000, 50000, 60000, 80000)\n",
    "sigma_x = (1, 1, 1, 2, 10, 2, 1, 2, 4)\n",
    "sigma_y = (1, 1, 1, 10, 2, 10, 1, 2, 4)\n",
    "fwhm = 5\n",
    "theta = (0, 0, 0, 0, 0, 45, 0, 0, 0)\n",
    "sky = 800\n",
    "rdnoise = 20  # very low noise\n",
    "min_snr = 10\n",
    "\n",
    "im = gen_image(size, posx, posy, flux, sky, rdnoise,\n",
    "               model='gaussian', sigma=(sigma_x, sigma_y),\n",
    "               theta=theta)\n",
    "\n",
    "# crap sources\n",
    "im[posy[0]:posy[0]+2, posx[0]:posx[0]+2] = 15000\n",
    "im[posy[1]-5:posy[1]+5, posx[1]] = 15000\n",
    "im[posy[1], posx[1]-5:posx[1]+5] = 15000\n",
    "im[posy[2]-3:posy[2]+3, posx[2]-3:posx[2]+3] += 25000\n",
    "im[posy[2], posx[2]] += 25000\n",
    "\n",
    "fig, ax = plt.subplots(1, 2, figsize=(10, 6), sharex=True, sharey=True)\n",
    "ax[0].imshow(im, origin='lower', vmax=12000)\n",
    "ax[0].set_title('Original')\n",
    "\n",
    "from library.stetson_daofind import stetson_image_params, stetson_kernels\n",
    "image, hmin, n_x, n_y, radius, nhalf, nbox, _, sigsq = stetson_image_params(fwhm, min_snr, rdnoise, im, sky)\n",
    "mask, g, pixels, c, c1 = stetson_kernels(radius, nhalf, nbox, sigsq)\n",
    "h = convolve(image, c)\n",
    "ax[1].imshow(h, origin='lower')\n",
    "ax[1].set_title('Convolved')\n",
    "\n",
    "plt.tight_layout()\n",
    "plt.show()"
   ]
  },
  {
   "cell_type": "code",
   "execution_count": null,
   "metadata": {},
   "outputs": [],
   "source": [
    "fig, ax = plt.subplots(1, 3, figsize=(10, 4))\n",
    "\n",
    "# Stetson daofind\n",
    "from library.stetson_daofind import stetson_find_peaks\n",
    "print('stetson')\n",
    "%timeit -n1 stetson_find_peaks(h, hmin, mask, pixels, nhalf, n_x, n_y)\n",
    "ix, iy, ngood = stetson_find_peaks(h, hmin, mask, pixels, nhalf, n_x, n_y)\n",
    "ax[0].imshow(im, origin='lower', vmin=800, vmax=3200)\n",
    "ax[0].plot(ix, iy, 'r.', alpha=0.5)\n",
    "ax[0].set_title(f'Stetson DAOFind\\n{len(ix)} sources')\n",
    "\n",
    "# Using photutils default\n",
    "from photutils.detection import find_peaks\n",
    "print('photutils')\n",
    "%timeit -n1 find_peaks(h, hmin)\n",
    "peaks = find_peaks(h, hmin)\n",
    "ax[1].imshow(im, origin='lower', vmin=800, vmax=3200)\n",
    "ax[1].plot(peaks['x_peak'], peaks['y_peak'], 'r.', alpha=0.5)\n",
    "ax[1].set_title(f'Photutils find_peaks\\n{len(peaks)} sources')\n",
    "\n",
    "# using scikit-image\n",
    "from skimage.feature import peak_local_max\n",
    "print('skimage')\n",
    "%timeit -n1 peak_local_max(h, min_distance=int(fwhm), threshold_rel=hmin/np.max(h))\n",
    "peaks = peak_local_max(h, min_distance=int(fwhm), threshold_rel=hmin/np.max(h))\n",
    "ax[2].imshow(im, origin='lower', vmin=800, vmax=3200)\n",
    "ax[2].plot(peaks[:, 1], peaks[:, 0], 'r.')\n",
    "ax[2].set_title(f'Skimage peak_local_max\\n{len(peaks)} sources')\n",
    "\n",
    "plt.tight_layout()\n",
    "plt.show()"
   ]
  },
  {
   "cell_type": "markdown",
   "metadata": {},
   "source": [
    "### Conclusions on simulated image:\n",
    "- Both Stetson and Photutils found spurious peaks, specially in the hard edge sources. Photutils found more of them.\n",
    "- Scikit-image needed some tunning in the min_distance and threshold_rel parameters but these combinations seems to work well:\n",
    "  - `threshold_rel=hmin/np.max(h)`\n",
    "  - `min_distance=int(fwhm)`"
   ]
  },
  {
   "cell_type": "markdown",
   "metadata": {},
   "source": [
    "### Real image\n",
    "\n",
    "Lets try a real image from Photutils dataset. Again, applying the peak finding in the convolved image. This image has saturated stars, that appear with dark center on convolved image."
   ]
  },
  {
   "cell_type": "code",
   "execution_count": null,
   "metadata": {},
   "outputs": [],
   "source": [
    "from astropy.stats import sigma_clipped_stats\n",
    "from photutils.datasets import load_star_image\n",
    "hdu = load_star_image()\n",
    "print(np.shape(hdu.data))\n",
    "im = hdu.data[600:1001, 600:1001].astype('f8')\n",
    "fwhm = 5\n",
    "bkg = np.median(im)\n",
    "rms = np.std(im)\n",
    "snr = 10\n",
    "\n",
    "fig, ax = plt.subplots(1, 2, figsize=(10, 6))\n",
    "ax[0].imshow(im, origin='lower', vmax=12000)\n",
    "ax[0].set_title('Original')\n",
    "\n",
    "from library.stetson_daofind import stetson_image_params, stetson_kernels\n",
    "image, hmin, n_x, n_y, radius, nhalf, nbox, _, sigsq = stetson_image_params(fwhm, min_snr, rms, im, bkg)\n",
    "mask, g, pixels, c, c1 = stetson_kernels(radius, nhalf, nbox, sigsq)\n",
    "h = convolve(image, c)\n",
    "ax[1].imshow(h, origin='lower')\n",
    "ax[1].set_title('Convolved')\n",
    "\n",
    "plt.tight_layout()\n",
    "plt.show()"
   ]
  },
  {
   "cell_type": "code",
   "execution_count": null,
   "metadata": {},
   "outputs": [],
   "source": [
    "fig, ax = plt.subplots(1, 3, figsize=(10, 4), sharex=True, sharey=True)\n",
    "\n",
    "# Stetson daofind\n",
    "from library.stetson_daofind import stetson_find_peaks\n",
    "print('stetson')\n",
    "%timeit -n1 stetson_find_peaks(h, hmin, mask, pixels, nhalf, n_x, n_y)\n",
    "ix, iy, ngood = stetson_find_peaks(h, hmin, mask, pixels, nhalf, n_x, n_y)\n",
    "ax[0].imshow(im, origin='lower')\n",
    "ax[0].plot(ix, iy, 'r.', alpha=0.5)\n",
    "ax[0].set_title(f'Stetson DAOFind\\n{len(ix)} sources')\n",
    "\n",
    "# Using photutils default\n",
    "from photutils.detection import find_peaks\n",
    "print('photutils')\n",
    "%timeit -n1 find_peaks(h, hmin)\n",
    "peaks = find_peaks(h, hmin)\n",
    "ax[1].imshow(im, origin='lower')\n",
    "ax[1].plot(peaks['x_peak'], peaks['y_peak'], 'r.', alpha=0.5)\n",
    "ax[1].set_title(f'Photutils find_peaks\\n{len(peaks)} sources')\n",
    "\n",
    "# using scikit-image\n",
    "from skimage.feature import peak_local_max\n",
    "print('skimage')\n",
    "%timeit -n1 peak_local_max(h, min_distance=int(fwhm), threshold_rel=hmin/np.max(h))\n",
    "peaks = peak_local_max(h, min_distance=int(fwhm), threshold_rel=hmin/np.max(h))\n",
    "ax[2].imshow(im, origin='lower')\n",
    "ax[2].plot(peaks[:, 1], peaks[:, 0], 'r.', alpha=0.5)\n",
    "ax[2].set_title(f'Skimage peak_local_max\\n{len(peaks)} sources')\n",
    "\n",
    "plt.tight_layout()\n",
    "plt.show()"
   ]
  },
  {
   "cell_type": "markdown",
   "metadata": {},
   "source": [
    "### Conclusions on real image\n",
    "\n",
    "Here, the results are almost identical, but skimage lost some weak sources near brighter peaks. Adjusting the `min_distance` to `fwhm/1.5` this problem is solved. However, using this value in the simulated image make skimage find exactly the same sources as Stetson algorith.\n",
    "\n",
    "All the algorithms ignored saturated stars, due to the valleys in the center of the convolved image."
   ]
  }
 ],
 "metadata": {
  "interpreter": {
   "hash": "162041a95dc008afa7a541b7cce9944c08c53eb30e22b146ef152cba0893111e"
  },
  "kernelspec": {
   "display_name": "Python 3 (ipykernel)",
   "language": "python",
   "name": "python3"
  },
  "language_info": {
   "codemirror_mode": {
    "name": "ipython",
    "version": 3
   },
   "file_extension": ".py",
   "mimetype": "text/x-python",
   "name": "python",
   "nbconvert_exporter": "python",
   "pygments_lexer": "ipython3",
   "version": "3.9.7"
  }
 },
 "nbformat": 4,
 "nbformat_minor": 2
}
