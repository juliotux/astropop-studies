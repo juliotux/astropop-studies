{
 "cells": [
  {
   "cell_type": "code",
   "execution_count": null,
   "id": "6252a203",
   "metadata": {},
   "outputs": [],
   "source": [
    "import numpy as np\n",
    "from astropop.framedata import FrameData\n",
    "from astropop.image import imcombine, ImCombiner\n",
    "from astropop.logger import logger"
   ]
  },
  {
   "cell_type": "code",
   "execution_count": null,
   "id": "c54f4306",
   "metadata": {},
   "outputs": [],
   "source": [
    "logger.setLevel('DEBUG')\n",
    "cache_dir = './tmp'\n",
    "size = (2048, 2048)"
   ]
  },
  {
   "cell_type": "code",
   "execution_count": null,
   "id": "3eb1c457",
   "metadata": {},
   "outputs": [],
   "source": [
    "f_list = [FrameData(np.random.normal(loc=100, scale=5, size=size),\n",
    "                    uncertainty=np.random.normal(loc=10, scale=5, size=size),\n",
    "                    unit='adu', use_memmap_backend=True, cache_folder=cache_dir)\n",
    "          for i in range(150)]"
   ]
  },
  {
   "cell_type": "code",
   "execution_count": null,
   "id": "a92ae151",
   "metadata": {},
   "outputs": [],
   "source": [
    "mean = imcombine(f_list, 'mean', sigma_clip=3)\n",
    "median = imcombine(f_list, 'median')"
   ]
  },
  {
   "cell_type": "code",
   "execution_count": null,
   "id": "fa994637",
   "metadata": {},
   "outputs": [],
   "source": [
    "from matplotlib import pyplot as plt\n",
    "%matplotlib notebook"
   ]
  },
  {
   "cell_type": "code",
   "execution_count": null,
   "id": "1e67d3db",
   "metadata": {},
   "outputs": [],
   "source": [
    "fig, (ax0, ax1, ax2) = plt.subplots(1, 3)\n",
    "ax0.imshow(f_list[0].data, vmax=101, vmin=99)\n",
    "ax1.imshow(mean.data, vmax=101, vmin=99)\n",
    "ax2.imshow(median.data, vmax=101, vmin=99)"
   ]
  },
  {
   "cell_type": "code",
   "execution_count": null,
   "id": "b2a824f8",
   "metadata": {},
   "outputs": [],
   "source": [
    "plt.figure()\n",
    "plt.hist(median.data.ravel(), bins=200, color='C0', alpha=0.5, label='median')\n",
    "plt.hist(mean.data.ravel(), bins=200, color='C1', alpha=0.5, label='mean')\n",
    "plt.legend()\n",
    "plt.show()"
   ]
  },
  {
   "cell_type": "code",
   "execution_count": null,
   "id": "c9141c00",
   "metadata": {},
   "outputs": [],
   "source": []
  }
 ],
 "metadata": {
  "kernelspec": {
   "display_name": "Python 3",
   "language": "python",
   "name": "python3"
  },
  "language_info": {
   "codemirror_mode": {
    "name": "ipython",
    "version": 3
   },
   "file_extension": ".py",
   "mimetype": "text/x-python",
   "name": "python",
   "nbconvert_exporter": "python",
   "pygments_lexer": "ipython3",
   "version": "3.10.2"
  }
 },
 "nbformat": 4,
 "nbformat_minor": 5
}
